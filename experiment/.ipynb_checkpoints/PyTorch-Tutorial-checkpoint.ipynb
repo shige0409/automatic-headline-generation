{
 "cells": [
  {
   "cell_type": "code",
   "execution_count": 51,
   "id": "ce61f98e-7d2b-427d-be40-bb23fb9e2ca0",
   "metadata": {},
   "outputs": [],
   "source": [
    "import torch\n",
    "import torch.nn as nn\n",
    "import torch.nn.functional as F"
   ]
  },
  {
   "cell_type": "code",
   "execution_count": 24,
   "id": "14915edb-145e-4c4e-951d-f79277c11e82",
   "metadata": {},
   "outputs": [
    {
     "data": {
      "text/plain": [
       "'1.8.0'"
      ]
     },
     "execution_count": 24,
     "metadata": {},
     "output_type": "execute_result"
    }
   ],
   "source": [
    "torch.__version__"
   ]
  },
  {
   "cell_type": "code",
   "execution_count": 25,
   "id": "e1933fa7-e1ff-4953-a286-eb58beb59ff4",
   "metadata": {},
   "outputs": [],
   "source": [
    "from sklearn.datasets import load_iris"
   ]
  },
  {
   "cell_type": "code",
   "execution_count": 26,
   "id": "f4db1975-dd87-4d48-99cb-b86ef0723ce9",
   "metadata": {},
   "outputs": [],
   "source": [
    "X, y = load_iris(return_X_y=True)"
   ]
  },
  {
   "cell_type": "code",
   "execution_count": 27,
   "id": "77b904ed-7eba-4510-bded-666ae9bebbf7",
   "metadata": {},
   "outputs": [
    {
     "data": {
      "text/plain": [
       "((150, 4), (150,))"
      ]
     },
     "execution_count": 27,
     "metadata": {},
     "output_type": "execute_result"
    }
   ],
   "source": [
    "X.shape, y.shape"
   ]
  },
  {
   "cell_type": "code",
   "execution_count": 28,
   "id": "4b39d7fd-0ce6-4231-bfa0-814e3f0c16dc",
   "metadata": {},
   "outputs": [
    {
     "data": {
      "text/plain": [
       "(dtype('float64'), dtype('int64'), numpy.ndarray)"
      ]
     },
     "execution_count": 28,
     "metadata": {},
     "output_type": "execute_result"
    }
   ],
   "source": [
    "X.dtype, y.dtype, type(X)"
   ]
  },
  {
   "cell_type": "code",
   "execution_count": 29,
   "id": "8fd88ff2-f890-4d10-8e39-fe963f80325d",
   "metadata": {},
   "outputs": [
    {
     "data": {
      "text/plain": [
       "(torch.Tensor, torch.Size([150, 4]))"
      ]
     },
     "execution_count": 29,
     "metadata": {},
     "output_type": "execute_result"
    }
   ],
   "source": [
    "x = torch.tensor(X, dtype=torch.float32)\n",
    "y = torch.tensor(y, dtype=torch.int64)\n",
    "type(x), x.shape"
   ]
  },
  {
   "cell_type": "code",
   "execution_count": 30,
   "id": "0bd7c6a3-19df-4167-9050-dd4fb05a7476",
   "metadata": {},
   "outputs": [
    {
     "data": {
      "text/plain": [
       "<torch.utils.data.dataset.TensorDataset at 0x15a3f1b50>"
      ]
     },
     "execution_count": 30,
     "metadata": {},
     "output_type": "execute_result"
    }
   ],
   "source": [
    "dataset = torch.utils.data.TensorDataset(x, y)\n",
    "dataset"
   ]
  },
  {
   "cell_type": "code",
   "execution_count": 31,
   "id": "731b51ca-ab2d-44fd-abce-c511fd83f83a",
   "metadata": {},
   "outputs": [
    {
     "data": {
      "text/plain": [
       "torch.utils.data.dataset.TensorDataset"
      ]
     },
     "execution_count": 31,
     "metadata": {},
     "output_type": "execute_result"
    }
   ],
   "source": [
    "type(dataset)"
   ]
  },
  {
   "cell_type": "code",
   "execution_count": 32,
   "id": "9246e94e-52da-40bd-8445-e0fe1ee51c53",
   "metadata": {},
   "outputs": [
    {
     "data": {
      "text/plain": [
       "(tensor([5.1000, 3.5000, 1.4000, 0.2000]), tensor(0))"
      ]
     },
     "execution_count": 32,
     "metadata": {},
     "output_type": "execute_result"
    }
   ],
   "source": [
    "dataset[0]"
   ]
  },
  {
   "cell_type": "code",
   "execution_count": 39,
   "id": "84d42ea0-a961-4228-8666-e676b084d447",
   "metadata": {},
   "outputs": [],
   "source": [
    "n_train = int(len(dataset) * 0.6)\n",
    "n_val = int(len(dataset) * 0.2)\n",
    "n_test = len(dataset) - n_train - n_val"
   ]
  },
  {
   "cell_type": "code",
   "execution_count": 40,
   "id": "57fc7007-78a6-471a-b98d-de1e0bb91207",
   "metadata": {},
   "outputs": [],
   "source": [
    "torch.manual_seed(0)\n",
    "train, val, test = torch.utils.data.random_split(dataset, [n_train, n_val, n_test])"
   ]
  },
  {
   "cell_type": "code",
   "execution_count": 42,
   "id": "914b6145-e76e-48ab-966c-38d100f43490",
   "metadata": {},
   "outputs": [
    {
     "data": {
      "text/plain": [
       "(tensor([5.1000, 3.8000, 1.9000, 0.4000]), tensor(0))"
      ]
     },
     "execution_count": 42,
     "metadata": {},
     "output_type": "execute_result"
    }
   ],
   "source": [
    "train[0]"
   ]
  },
  {
   "cell_type": "code",
   "execution_count": 43,
   "id": "ce51afde-4d8e-4891-8907-31bbb4f133b7",
   "metadata": {},
   "outputs": [],
   "source": [
    "train_loader = torch.utils.data.DataLoader(train, batch_size=10, shuffle=True)\n",
    "val_loader = torch.utils.data.DataLoader(val, batch_size=10)\n",
    "test_loader = torch.utils.data.DataLoader(test, batch_size=10)"
   ]
  },
  {
   "cell_type": "code",
   "execution_count": 52,
   "id": "bef4415b-6544-4ebd-b240-23c6d116e849",
   "metadata": {},
   "outputs": [],
   "source": [
    "class MyNet(nn.Module):\n",
    "    \n",
    "    def __init__(self):\n",
    "        super(MyNet, self).__init__()\n",
    "        self.fc1 = nn.Linear(4,4)\n",
    "        self.fc2 = nn.Linear(4,3)\n",
    "        \n",
    "    def forward(self, x):\n",
    "        x = self.fc1(x)\n",
    "        x = F.relu(x)\n",
    "        x = self.fc2(x)\n",
    "        return x"
   ]
  },
  {
   "cell_type": "code",
   "execution_count": 117,
   "id": "5c7f5cbb-d5a5-40ad-9132-e7738eadb1cb",
   "metadata": {},
   "outputs": [
    {
     "name": "stdout",
     "output_type": "stream",
     "text": [
      "loss:  tensor(1.0772, grad_fn=<NllLossBackward>)\n",
      "acc:  tensor(0.6000)\n",
      "loss:  tensor(1.0081, grad_fn=<NllLossBackward>)\n",
      "acc:  tensor(0.5000)\n",
      "loss:  tensor(1.0347, grad_fn=<NllLossBackward>)\n",
      "acc:  tensor(0.3000)\n",
      "loss:  tensor(0.9751, grad_fn=<NllLossBackward>)\n",
      "acc:  tensor(0.5000)\n",
      "loss:  tensor(0.9983, grad_fn=<NllLossBackward>)\n",
      "acc:  tensor(0.7000)\n",
      "loss:  tensor(1.1167, grad_fn=<NllLossBackward>)\n",
      "acc:  tensor(0.2000)\n",
      "loss:  tensor(0.8504, grad_fn=<NllLossBackward>)\n",
      "acc:  tensor(0.6000)\n",
      "loss:  tensor(0.8995, grad_fn=<NllLossBackward>)\n",
      "acc:  tensor(0.4000)\n",
      "loss:  tensor(0.9283, grad_fn=<NllLossBackward>)\n",
      "acc:  tensor(0.3000)\n",
      "loss:  tensor(0.8655, grad_fn=<NllLossBackward>)\n",
      "acc:  tensor(0.6000)\n",
      "loss:  tensor(0.9027, grad_fn=<NllLossBackward>)\n",
      "acc:  tensor(0.7000)\n",
      "loss:  tensor(0.8863, grad_fn=<NllLossBackward>)\n",
      "acc:  tensor(0.5000)\n",
      "loss:  tensor(0.8060, grad_fn=<NllLossBackward>)\n",
      "acc:  tensor(0.7000)\n",
      "loss:  tensor(0.8474, grad_fn=<NllLossBackward>)\n",
      "acc:  tensor(0.5000)\n",
      "loss:  tensor(0.7587, grad_fn=<NllLossBackward>)\n",
      "acc:  tensor(0.8000)\n",
      "loss:  tensor(0.6617, grad_fn=<NllLossBackward>)\n",
      "acc:  tensor(0.8000)\n",
      "loss:  tensor(0.9063, grad_fn=<NllLossBackward>)\n",
      "acc:  tensor(0.6000)\n",
      "loss:  tensor(0.8717, grad_fn=<NllLossBackward>)\n",
      "acc:  tensor(0.9000)\n",
      "loss:  tensor(0.7118, grad_fn=<NllLossBackward>)\n",
      "acc:  tensor(0.7000)\n",
      "loss:  tensor(0.5991, grad_fn=<NllLossBackward>)\n",
      "acc:  tensor(0.9000)\n",
      "loss:  tensor(0.7392, grad_fn=<NllLossBackward>)\n",
      "acc:  tensor(0.6000)\n",
      "loss:  tensor(0.7811, grad_fn=<NllLossBackward>)\n",
      "acc:  tensor(0.5000)\n",
      "loss:  tensor(0.7292, grad_fn=<NllLossBackward>)\n",
      "acc:  tensor(1.)\n",
      "loss:  tensor(0.7210, grad_fn=<NllLossBackward>)\n",
      "acc:  tensor(0.6000)\n",
      "loss:  tensor(0.6104, grad_fn=<NllLossBackward>)\n",
      "acc:  tensor(0.9000)\n",
      "loss:  tensor(0.9220, grad_fn=<NllLossBackward>)\n",
      "acc:  tensor(0.4000)\n",
      "loss:  tensor(0.6698, grad_fn=<NllLossBackward>)\n",
      "acc:  tensor(0.6000)\n",
      "loss:  tensor(0.7476, grad_fn=<NllLossBackward>)\n",
      "acc:  tensor(0.4000)\n",
      "loss:  tensor(0.6709, grad_fn=<NllLossBackward>)\n",
      "acc:  tensor(0.7000)\n",
      "loss:  tensor(0.7389, grad_fn=<NllLossBackward>)\n",
      "acc:  tensor(0.6000)\n",
      "loss:  tensor(0.6764, grad_fn=<NllLossBackward>)\n",
      "acc:  tensor(0.7000)\n",
      "loss:  tensor(0.6692, grad_fn=<NllLossBackward>)\n",
      "acc:  tensor(0.7000)\n",
      "loss:  tensor(0.5683, grad_fn=<NllLossBackward>)\n",
      "acc:  tensor(1.)\n",
      "loss:  tensor(0.5705, grad_fn=<NllLossBackward>)\n",
      "acc:  tensor(0.7000)\n",
      "loss:  tensor(0.5703, grad_fn=<NllLossBackward>)\n",
      "acc:  tensor(1.)\n",
      "loss:  tensor(0.7048, grad_fn=<NllLossBackward>)\n",
      "acc:  tensor(0.2000)\n",
      "loss:  tensor(0.8042, grad_fn=<NllLossBackward>)\n",
      "acc:  tensor(0.6000)\n",
      "loss:  tensor(0.6019, grad_fn=<NllLossBackward>)\n",
      "acc:  tensor(0.7000)\n",
      "loss:  tensor(0.7853, grad_fn=<NllLossBackward>)\n",
      "acc:  tensor(0.5000)\n",
      "loss:  tensor(0.5204, grad_fn=<NllLossBackward>)\n",
      "acc:  tensor(1.)\n",
      "loss:  tensor(0.5890, grad_fn=<NllLossBackward>)\n",
      "acc:  tensor(0.7000)\n",
      "loss:  tensor(0.5264, grad_fn=<NllLossBackward>)\n",
      "acc:  tensor(0.8000)\n",
      "loss:  tensor(0.5195, grad_fn=<NllLossBackward>)\n",
      "acc:  tensor(0.9000)\n",
      "loss:  tensor(0.5518, grad_fn=<NllLossBackward>)\n",
      "acc:  tensor(0.7000)\n",
      "loss:  tensor(0.6140, grad_fn=<NllLossBackward>)\n",
      "acc:  tensor(0.6000)\n"
     ]
    }
   ],
   "source": [
    "torch.manual_seed(1)\n",
    "# モデル\n",
    "mynet = MyNet()\n",
    "# 評価関数\n",
    "criterion = F.cross_entropy\n",
    "# 最適化\n",
    "optimizer = torch.optim.SGD(mynet.parameters(), lr=0.1)\n",
    "\n",
    "for epoch in range(5):\n",
    "    for batch in train_loader:\n",
    "        x, t = batch\n",
    "        # 勾配初期化\n",
    "        optimizer.zero_grad()\n",
    "        \n",
    "        # 予測\n",
    "        y = mynet(x)\n",
    "        # 損失計算\n",
    "        loss = criterion(y, t)\n",
    "        print(\"loss: \", loss)\n",
    "        \n",
    "        # ACC\n",
    "        y_label = torch.argmax(y, dim=1)\n",
    "        acc = torch.sum(t == y_label) / len(t)\n",
    "        print(\"acc: \", acc)\n",
    "        \n",
    "        # 勾配計算\n",
    "        loss.backward()\n",
    "        # weight更新\n",
    "        optimizer.step()"
   ]
  },
  {
   "cell_type": "code",
   "execution_count": null,
   "id": "6e6b85ba-5069-4827-ac86-e51503c09694",
   "metadata": {},
   "outputs": [],
   "source": []
  }
 ],
 "metadata": {
  "kernelspec": {
   "display_name": "Python 3 (ipykernel)",
   "language": "python",
   "name": "python3"
  },
  "language_info": {
   "codemirror_mode": {
    "name": "ipython",
    "version": 3
   },
   "file_extension": ".py",
   "mimetype": "text/x-python",
   "name": "python",
   "nbconvert_exporter": "python",
   "pygments_lexer": "ipython3",
   "version": "3.9.6"
  }
 },
 "nbformat": 4,
 "nbformat_minor": 5
}
