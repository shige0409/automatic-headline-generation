{
 "cells": [
  {
   "cell_type": "code",
   "execution_count": 1,
   "id": "f318b9ab-1ba3-4622-9b41-6edfeb74e59d",
   "metadata": {},
   "outputs": [],
   "source": [
    "import numpy as np\n",
    "import pandas as pd\n",
    "# pd.set_option(\"max_rows\", 500, \"max_colwidth\", 500, \"max_columns\", 500)"
   ]
  },
  {
   "cell_type": "code",
   "execution_count": 2,
   "id": "cfeb8c51-ac60-4f10-ac8d-cd41a4483f75",
   "metadata": {},
   "outputs": [
    {
     "data": {
      "text/html": [
       "<div>\n",
       "<style scoped>\n",
       "    .dataframe tbody tr th:only-of-type {\n",
       "        vertical-align: middle;\n",
       "    }\n",
       "\n",
       "    .dataframe tbody tr th {\n",
       "        vertical-align: top;\n",
       "    }\n",
       "\n",
       "    .dataframe thead th {\n",
       "        text-align: right;\n",
       "    }\n",
       "</style>\n",
       "<table border=\"1\" class=\"dataframe\">\n",
       "  <thead>\n",
       "    <tr style=\"text-align: right;\">\n",
       "      <th></th>\n",
       "      <th>url</th>\n",
       "      <th>date</th>\n",
       "      <th>title</th>\n",
       "      <th>context</th>\n",
       "      <th>category</th>\n",
       "      <th>keyword</th>\n",
       "      <th>tweet_share</th>\n",
       "      <th>quote</th>\n",
       "      <th>main_category</th>\n",
       "      <th>context_</th>\n",
       "    </tr>\n",
       "  </thead>\n",
       "  <tbody>\n",
       "    <tr>\n",
       "      <th>0</th>\n",
       "      <td>https://news.livedoor.com/article/detail/20558...</td>\n",
       "      <td>2021-07-19 19:40:00</td>\n",
       "      <td>安田大サーカス・クロちゃん、新型コロナ感染　団長安田とは「別ルートでの感染と考えられます」</td>\n",
       "      <td>\\n　お笑いトリオ・安田大サーカスのクロちゃん（44）の所属事務所・松竹芸能は19日、クロち...</td>\n",
       "      <td>ニューストップ&lt;SEP&gt;芸能&lt;SEP&gt;芸能総合</td>\n",
       "      <td>クロちゃん&lt;SEP&gt;安田大サーカス&lt;SEP&gt;芸能ニュース&lt;SEP&gt;新型コロナウイルス</td>\n",
       "      <td>1025</td>\n",
       "      <td>オリコン</td>\n",
       "      <td>芸能</td>\n",
       "      <td>お笑いトリオ ・ 安田大サーカス の クロちゃん （ 44 ） の 所属事務所 ・ 松竹芸能...</td>\n",
       "    </tr>\n",
       "    <tr>\n",
       "      <th>1</th>\n",
       "      <td>https://news.livedoor.com/article/detail/20558...</td>\n",
       "      <td>2021-07-19 19:32:00</td>\n",
       "      <td>へずまりゅうに懲役求刑“反省みられない”</td>\n",
       "      <td>\\n元ユーチューバー、「へずまりゅう」こと原田将大被告（３０）――「（Ｑ．初公判ですがお気持...</td>\n",
       "      <td>ニューストップ&lt;SEP&gt;国内&lt;SEP&gt;社会</td>\n",
       "      <td>YouTuber&lt;SEP&gt;国内ニュース</td>\n",
       "      <td>6</td>\n",
       "      <td>日テレNEWS24</td>\n",
       "      <td>国内</td>\n",
       "      <td>元 ユーチューバー 、 「 へずまりゅう 」 こと 原田 将大 被告 （ 30 ） ―― 「...</td>\n",
       "    </tr>\n",
       "    <tr>\n",
       "      <th>2</th>\n",
       "      <td>https://news.livedoor.com/article/detail/20558...</td>\n",
       "      <td>2021-07-19 20:00:00</td>\n",
       "      <td>【独自】Uターン失敗でパニックに？ 歩道や花壇に次々と突っ込む…ドラレコが捉えた謎の暴走事故</td>\n",
       "      <td>\\nスピードを上げ…歩道に突進ドライブレコーダーが捉えたのは、コントロールを失った車がスピー...</td>\n",
       "      <td>ニューストップ&lt;SEP&gt;国内</td>\n",
       "      <td>高齢ドライバーの事故&lt;SEP&gt;交通事故&lt;SEP&gt;国内の事件・事故</td>\n",
       "      <td>3</td>\n",
       "      <td>FNNプライムオンライン</td>\n",
       "      <td>国内</td>\n",
       "      <td>スピード を 上げ … 歩道 に 突進 ドライブレコーダー が 捉え た の は 、 コント...</td>\n",
       "    </tr>\n",
       "    <tr>\n",
       "      <th>3</th>\n",
       "      <td>https://news.livedoor.com/article/detail/20558...</td>\n",
       "      <td>2021-07-19 19:32:00</td>\n",
       "      <td>小山田圭吾のいじめ告白記事『Quick Japan』出版元も謝罪　「差別を助長する不適切なもの」</td>\n",
       "      <td>\\n　ミュージシャンの小山田圭吾（52）が、学生時代に障がい者へのいじめを行っていたと告白し...</td>\n",
       "      <td>ニューストップ&lt;SEP&gt;芸能&lt;SEP&gt;芸能総合</td>\n",
       "      <td>小山田圭吾&lt;SEP&gt;東京五輪(2020)</td>\n",
       "      <td>358</td>\n",
       "      <td>オリコン</td>\n",
       "      <td>芸能</td>\n",
       "      <td>ミュージシャン の 小山田圭吾 （ 52 ） が 、 学生時代 に 障がい者 へ の いじめ...</td>\n",
       "    </tr>\n",
       "    <tr>\n",
       "      <th>4</th>\n",
       "      <td>https://news.livedoor.com/article/detail/20555...</td>\n",
       "      <td>2021-07-19 12:03:00</td>\n",
       "      <td>韓国　日本大使館幹部処分を首脳会談条件に</td>\n",
       "      <td>\\n韓国の文在寅大統領の日本訪問と首脳会談について１９日、韓国側は、不適切な発言を行ったソウ...</td>\n",
       "      <td>ニューストップ&lt;SEP&gt;海外&lt;SEP&gt;海外総合</td>\n",
       "      <td>日韓首脳会談&lt;SEP&gt;日韓関係&lt;SEP&gt;韓国の話題&lt;SEP&gt;海外ニュース</td>\n",
       "      <td>28</td>\n",
       "      <td>日テレNEWS24</td>\n",
       "      <td>海外</td>\n",
       "      <td>韓国 の 文在寅 大統領 の 日本 訪問 と 首脳会談 について 19日 、 韓国側 は 、...</td>\n",
       "    </tr>\n",
       "  </tbody>\n",
       "</table>\n",
       "</div>"
      ],
      "text/plain": [
       "                                                 url                 date  \\\n",
       "0  https://news.livedoor.com/article/detail/20558...  2021-07-19 19:40:00   \n",
       "1  https://news.livedoor.com/article/detail/20558...  2021-07-19 19:32:00   \n",
       "2  https://news.livedoor.com/article/detail/20558...  2021-07-19 20:00:00   \n",
       "3  https://news.livedoor.com/article/detail/20558...  2021-07-19 19:32:00   \n",
       "4  https://news.livedoor.com/article/detail/20555...  2021-07-19 12:03:00   \n",
       "\n",
       "                                              title  \\\n",
       "0     安田大サーカス・クロちゃん、新型コロナ感染　団長安田とは「別ルートでの感染と考えられます」   \n",
       "1                              へずまりゅうに懲役求刑“反省みられない”   \n",
       "2    【独自】Uターン失敗でパニックに？ 歩道や花壇に次々と突っ込む…ドラレコが捉えた謎の暴走事故   \n",
       "3  小山田圭吾のいじめ告白記事『Quick Japan』出版元も謝罪　「差別を助長する不適切なもの」   \n",
       "4                              韓国　日本大使館幹部処分を首脳会談条件に   \n",
       "\n",
       "                                             context                 category  \\\n",
       "0  \\n　お笑いトリオ・安田大サーカスのクロちゃん（44）の所属事務所・松竹芸能は19日、クロち...  ニューストップ<SEP>芸能<SEP>芸能総合   \n",
       "1  \\n元ユーチューバー、「へずまりゅう」こと原田将大被告（３０）――「（Ｑ．初公判ですがお気持...    ニューストップ<SEP>国内<SEP>社会   \n",
       "2  \\nスピードを上げ…歩道に突進ドライブレコーダーが捉えたのは、コントロールを失った車がスピー...           ニューストップ<SEP>国内   \n",
       "3  \\n　ミュージシャンの小山田圭吾（52）が、学生時代に障がい者へのいじめを行っていたと告白し...  ニューストップ<SEP>芸能<SEP>芸能総合   \n",
       "4  \\n韓国の文在寅大統領の日本訪問と首脳会談について１９日、韓国側は、不適切な発言を行ったソウ...  ニューストップ<SEP>海外<SEP>海外総合   \n",
       "\n",
       "                                      keyword  tweet_share         quote  \\\n",
       "0  クロちゃん<SEP>安田大サーカス<SEP>芸能ニュース<SEP>新型コロナウイルス         1025          オリコン   \n",
       "1                         YouTuber<SEP>国内ニュース            6     日テレNEWS24   \n",
       "2            高齢ドライバーの事故<SEP>交通事故<SEP>国内の事件・事故            3  FNNプライムオンライン   \n",
       "3                        小山田圭吾<SEP>東京五輪(2020)          358          オリコン   \n",
       "4        日韓首脳会談<SEP>日韓関係<SEP>韓国の話題<SEP>海外ニュース           28     日テレNEWS24   \n",
       "\n",
       "  main_category                                           context_  \n",
       "0            芸能  お笑いトリオ ・ 安田大サーカス の クロちゃん （ 44 ） の 所属事務所 ・ 松竹芸能...  \n",
       "1            国内  元 ユーチューバー 、 「 へずまりゅう 」 こと 原田 将大 被告 （ 30 ） ―― 「...  \n",
       "2            国内  スピード を 上げ … 歩道 に 突進 ドライブレコーダー が 捉え た の は 、 コント...  \n",
       "3            芸能  ミュージシャン の 小山田圭吾 （ 52 ） が 、 学生時代 に 障がい者 へ の いじめ...  \n",
       "4            海外  韓国 の 文在寅 大統領 の 日本 訪問 と 首脳会談 について 19日 、 韓国側 は 、...  "
      ]
     },
     "execution_count": 2,
     "metadata": {},
     "output_type": "execute_result"
    }
   ],
   "source": [
    "# pd.set_option(\"max_colwidth\", 50, \"max_rows\", 20, \"max_columns\", 20, \"width\", 100)\n",
    "df = pd.read_csv(\"../scraping/data/article.csv\")\n",
    "df.head()"
   ]
  },
  {
   "cell_type": "code",
   "execution_count": 3,
   "id": "23c65932-0418-4f0a-9c6b-12f5d18de071",
   "metadata": {},
   "outputs": [
    {
     "data": {
      "text/plain": [
       "count     5897.000000\n",
       "mean       676.425810\n",
       "std        658.887781\n",
       "min         17.000000\n",
       "25%        272.000000\n",
       "50%        483.000000\n",
       "75%        840.000000\n",
       "max      11076.000000\n",
       "Name: context_, dtype: float64"
      ]
     },
     "execution_count": 3,
     "metadata": {},
     "output_type": "execute_result"
    }
   ],
   "source": [
    "df.context_.str.split(\" \").str.len().describe()\n",
    "# 文のサイズは1024で固定"
   ]
  },
  {
   "cell_type": "code",
   "execution_count": 4,
   "id": "ba2679dd-8494-4127-a677-98982458716a",
   "metadata": {},
   "outputs": [
    {
     "data": {
      "text/plain": [
       "{'芸能': 0,\n",
       " '国内': 1,\n",
       " '海外': 2,\n",
       " 'ライフ総合': 3,\n",
       " 'IT 経済': 4,\n",
       " 'スポーツ': 5,\n",
       " '車': 6,\n",
       " 'グルメ': 7,\n",
       " 'ライフスタイル': 8,\n",
       " '恋愛': 9,\n",
       " 'ファッション・ビューティ': 10}"
      ]
     },
     "execution_count": 4,
     "metadata": {},
     "output_type": "execute_result"
    }
   ],
   "source": [
    "main_category_dict = {v:i for i,v in enumerate(df.main_category.unique())}\n",
    "main_category_dict"
   ]
  },
  {
   "cell_type": "code",
   "execution_count": 5,
   "id": "cb4a6eb8-1126-4f39-bb6b-0fea20b5ad34",
   "metadata": {},
   "outputs": [],
   "source": [
    "df[\"label_\"] = df.main_category.map(main_category_dict)"
   ]
  },
  {
   "cell_type": "code",
   "execution_count": 6,
   "id": "d4a7541d-4210-4173-8887-ced271c6d62d",
   "metadata": {},
   "outputs": [],
   "source": [
    "df[[\"context_\", \"label_\"]].to_csv(\"./datasets.csv\", index=None, header=None)"
   ]
  },
  {
   "cell_type": "code",
   "execution_count": 7,
   "id": "3329c726-00f5-4629-a1a8-440b7846a5cc",
   "metadata": {},
   "outputs": [],
   "source": [
    "import torch\n",
    "import torchtext\n",
    "import torch.nn as nn\n",
    "import torch.nn.functional as F\n"
   ]
  },
  {
   "cell_type": "code",
   "execution_count": 17,
   "id": "de5ce665-401f-428d-b019-eb37801dd634",
   "metadata": {},
   "outputs": [],
   "source": [
    "# 本文フィールド\n",
    "context_field = torchtext.data.Field(\n",
    "#    sequential=True,  # Falseなら、tokenizeしない (デフォルト: True)\n",
    "    use_vocab=True,  # Trueなら、ボキャブラリを使って数値化する\n",
    "#    init_token=\"<INIT>\",  # 文頭に付与するトークン (デフォルト: None)\n",
    "#    eos_token=\"<EOS>\",  # 文末に付与するトークン (デフォルト: None)\n",
    "    fix_length=1024,  # 1文あたりのワード数 (不足する場合はパディング)\n",
    "#    pad_first=False,  # パディングを最初にいれるかどうか (デフォルト: False)\n",
    "#    truncate_first=False,  # fix_lengthを超えた場合に先頭から削るかどうか (デフォルト: False -> 後ろから削られる)\n",
    "#    tokenize=lambda x: x.split(\" \"),  # トークナイズ処理 (デフォルト: str.split)\n",
    "#    stop_words=set(stopwords.words(\"english\")),  # 除去するストップワード\n",
    "#    preprocessing=torchtext.data.Pipeline(preprocessing),  # 後述 (デフォルト: None)\n",
    "#    postprocessing=None,  # ミニバッチ単位で行う処理 (デフォルト: None)\n",
    "#    dtype=torch.long,  # データの型 (デフォルト: torch.long)\n",
    "    batch_first=True,  # ミニバッチの次元を最初に追加するかどうか (デフォルト: False)\n",
    "#     include_lengths=False,  # パディングした文とあわせて長さを返すかどうか (デフォルト: False)\n",
    "#     is_target=False  # ラベルフィールドかどうか (デフォルト: False) \n",
    ")\n",
    "# ラベルフィールド\n",
    "label_field = torchtext.data.Field(\n",
    "    sequential=False,\n",
    "    use_vocab=False,\n",
    "#    is_target=True\n",
    ")"
   ]
  },
  {
   "cell_type": "code",
   "execution_count": 18,
   "id": "82f5269d-b2f8-4f26-8bc9-0947fb6b7359",
   "metadata": {},
   "outputs": [],
   "source": [
    "# TSVファイルからDatasetにロード\n",
    "dataset = torchtext.data.TabularDataset(\n",
    "    path=\"./datasets.csv\",\n",
    "    format=\"csv\", # tsv, csv, json\n",
    "    fields=[(\"Context\", context_field), (\"Label\", label_field)],\n",
    ")\n",
    "\n",
    "# trainとtestで分割\n",
    "train_dataset, test_dataset = dataset.split(\n",
    "    split_ratio=0.9,\n",
    ")"
   ]
  },
  {
   "cell_type": "code",
   "execution_count": 27,
   "id": "93bd7607-c324-4479-aa44-f4532ce31fd3",
   "metadata": {},
   "outputs": [],
   "source": [
    "context_field.build_vocab(train_dataset, min_freq=1)"
   ]
  },
  {
   "cell_type": "code",
   "execution_count": 28,
   "id": "6dedfb5f-9c7e-4524-9f3c-bd0f8cc34dd8",
   "metadata": {},
   "outputs": [],
   "source": [
    "train_dl = torchtext.data.Iterator(train_dataset, batch_size=128)"
   ]
  },
  {
   "cell_type": "code",
   "execution_count": 29,
   "id": "401d0542-c505-475f-ae97-5739226e726d",
   "metadata": {},
   "outputs": [],
   "source": [
    "test_dl = torchtext.data.Iterator(test_dataset, batch_size=128, train=False, sort=False)"
   ]
  },
  {
   "cell_type": "code",
   "execution_count": 30,
   "id": "83d2dff1-c123-4a5b-a48d-d34b921f0447",
   "metadata": {},
   "outputs": [],
   "source": [
    "batch = next(iter(train_dl))"
   ]
  },
  {
   "cell_type": "code",
   "execution_count": 33,
   "id": "c73979ed-2a66-4871-a8c9-eee64ebe2b44",
   "metadata": {},
   "outputs": [
    {
     "data": {
      "text/plain": [
       "(tensor([  102, 10842,   101,  ...,     1,     1,     1]), tensor(2))"
      ]
     },
     "execution_count": 33,
     "metadata": {},
     "output_type": "execute_result"
    }
   ],
   "source": [
    "batch.Context[0], batch.Label[0]"
   ]
  },
  {
   "cell_type": "code",
   "execution_count": null,
   "id": "53df8585-abdc-4ca1-91f5-aa9994781e2e",
   "metadata": {},
   "outputs": [],
   "source": []
  }
 ],
 "metadata": {
  "kernelspec": {
   "display_name": "Python 3 (ipykernel)",
   "language": "python",
   "name": "python3"
  },
  "language_info": {
   "codemirror_mode": {
    "name": "ipython",
    "version": 3
   },
   "file_extension": ".py",
   "mimetype": "text/x-python",
   "name": "python",
   "nbconvert_exporter": "python",
   "pygments_lexer": "ipython3",
   "version": "3.8.10"
  }
 },
 "nbformat": 4,
 "nbformat_minor": 5
}
